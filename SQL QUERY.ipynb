{
 "cells": [
  {
   "cell_type": "code",
   "execution_count": null,
   "metadata": {},
   "outputs": [],
   "source": [
    "step 1. \n",
    "import lib\n",
    "import pymysql\n",
    "or\n",
    "from pymysql import *\n"
   ]
  },
  {
   "cell_type": "code",
   "execution_count": 1,
   "metadata": {},
   "outputs": [],
   "source": [
    "import pymysql as asd"
   ]
  },
  {
   "cell_type": "code",
   "execution_count": null,
   "metadata": {},
   "outputs": [],
   "source": [
    "step 2.\n",
    "connect with database and return obj of connection string\n",
    "con(object)=pymysql.connect(db='databasename',user='root',passwd='password',host='where running mysql')\n",
    "or\n",
    "con=connect(db='dbname',user='root',passwd='root',host='localhost')"
   ]
  },
  {
   "cell_type": "code",
   "execution_count": null,
   "metadata": {},
   "outputs": [],
   "source": [
    "step 3\n",
    "\n",
    "create cursor(cursor is temporary storage area)\n",
    "\n",
    "cur=conobject.cursor()\n"
   ]
  },
  {
   "cell_type": "code",
   "execution_count": 2,
   "metadata": {},
   "outputs": [
    {
     "name": "stdout",
     "output_type": "stream",
     "text": [
      "<class 'int'>\n"
     ]
    }
   ],
   "source": [
    "step 4\n",
    "\n",
    "create sql statement\n",
    "cur.execute(\"sql statement\")"
   ]
  },
  {
   "cell_type": "code",
   "execution_count": null,
   "metadata": {},
   "outputs": [],
   "source": [
    "step 5\n",
    "after executing you mst commit"
   ]
  },
  {
   "cell_type": "code",
   "execution_count": 2,
   "metadata": {},
   "outputs": [
    {
     "name": "stdout",
     "output_type": "stream",
     "text": [
      "Enter Dept No100\n",
      "Depat NameKamal\n",
      "Record Saved\n"
     ]
    }
   ],
   "source": [
    "#pip install pymysql\n",
    "import pymysql\n",
    "con=pymysql.connect(db='bank',user='root',passwd='root',host='localhost')\n",
    "deptno=int(input('Enter Dept No'))\n",
    "dname=input('Depat Name')\n",
    "cur=con.cursor()\n",
    "i=cur.execute(\"insert into dept values(%d,'%s')\"%(deptno,dname))\n",
    "if i==1:\n",
    "    print('Record Saved')\n",
    "    con.commit()"
   ]
  },
  {
   "cell_type": "code",
   "execution_count": 4,
   "metadata": {},
   "outputs": [],
   "source": [
    "from pymysql import *\n",
    "con=connect(db='juneja',user='root',passwd='root',host='localhost')\n",
    "cur=con.cursor()\n",
    "cur.execute(\"create table bank2(acno int,holder_name varchar(30))\")\n",
    "con.commit()"
   ]
  },
  {
   "cell_type": "code",
   "execution_count": 13,
   "metadata": {},
   "outputs": [
    {
     "name": "stdout",
     "output_type": "stream",
     "text": [
      "Emp No 101\n",
      "Emp Name Priya Juneja\n",
      "Salary 123444.0\n",
      "Designation ASE\n",
      "Dept No 10\n",
      "-----------------------------------------------------\n",
      "Emp No 102\n",
      "Emp Name Mahak Juneja\n",
      "Salary 123444.0\n",
      "Designation ASE\n",
      "Dept No 20\n",
      "-----------------------------------------------------\n",
      "Emp No 103\n",
      "Emp Name Tanay\n",
      "Salary 66665.0\n",
      "Designation Sr Manager\n",
      "Dept No 30\n",
      "-----------------------------------------------------\n",
      "Emp No 106\n",
      "Emp Name Kamal\n",
      "Salary 85333.0\n",
      "Designation SE\n",
      "Dept No 10\n",
      "-----------------------------------------------------\n",
      "Emp No 107\n",
      "Emp Name Amar\n",
      "Salary 25333.0\n",
      "Designation SE\n",
      "Dept No 10\n",
      "-----------------------------------------------------\n"
     ]
    }
   ],
   "source": [
    "#for show all record\n",
    "from pymysql import *\n",
    "con=connect(db='bank',user='root',passwd='root',host='localhost')\n",
    "cur=con.cursor()\n",
    "cur.execute(\"select * from emp\")#select all row from table and store it into cursor\n",
    "result=cur.fetchall()#fetch all record from cursor and store it into tuple\n",
    "#print(result)\n",
    "for x in range(len(result)):\n",
    "    print('Emp No',result[x][0])\n",
    "    print('Emp Name',result[x][1])\n",
    "    print('Salary',result[x][2])\n",
    "    print('Designation',result[x][3])\n",
    "    print('Dept No',result[x][4])\n",
    "    print('-----------------------------------------------------')"
   ]
  },
  {
   "cell_type": "code",
   "execution_count": 10,
   "metadata": {},
   "outputs": [
    {
     "name": "stdout",
     "output_type": "stream",
     "text": [
      "Enter Name to SearchManoj\n",
      "((105, 'Manoj', 45333.0, 'SE', 10),)\n"
     ]
    }
   ],
   "source": [
    "#for search\n",
    "import pymysql\n",
    "con=pymysql.connect(db='bank',user='root',passwd='root',host='localhost')\n",
    "cur=con.cursor()\n",
    "name=input('Enter Name to Search')\n",
    "cur.execute(\"select * from emp where ename='%s'\"%(name))\n",
    "result=cur.fetchall()\n",
    "print(result)"
   ]
  },
  {
   "cell_type": "code",
   "execution_count": 12,
   "metadata": {},
   "outputs": [
    {
     "name": "stdout",
     "output_type": "stream",
     "text": [
      "Enter Emp No105\n",
      "Record Deleted\n"
     ]
    }
   ],
   "source": [
    "#for delete\n",
    "import pymysql\n",
    "con=pymysql.connect(db='bank',user='root',passwd='root',host='localhost')\n",
    "cur=con.cursor()\n",
    "eno=int(input('Enter Emp No'))\n",
    "i=cur.execute(\"delete from emp where ename='%s'\"%(name))\n",
    "if i==1:\n",
    "    con.commit()#permanent saved all transaction\n",
    "    print('Record Deleted')"
   ]
  },
  {
   "cell_type": "code",
   "execution_count": 14,
   "metadata": {},
   "outputs": [
    {
     "name": "stdout",
     "output_type": "stream",
     "text": [
      "Emp No101\n",
      "Salary160000\n",
      "Record Updated\n"
     ]
    }
   ],
   "source": [
    "import pymysql\n",
    "con=pymysql.connect(db='bank',user='root',passwd='root',host='localhost')\n",
    "cur=con.cursor()\n",
    "empno=int(input('Emp No'))\n",
    "sal=float(input('Salary'))\n",
    "i=cur.execute(\"update emp set salary=%f where empno=%d\"%(sal,empno))\n",
    "if i==1:\n",
    "    con.commit()\n",
    "    print('Record Updated')"
   ]
  }
 ],
 "metadata": {
  "kernelspec": {
   "display_name": "Python 3",
   "language": "python",
   "name": "python3"
  },
  "language_info": {
   "codemirror_mode": {
    "name": "ipython",
    "version": 3
   },
   "file_extension": ".py",
   "mimetype": "text/x-python",
   "name": "python",
   "nbconvert_exporter": "python",
   "pygments_lexer": "ipython3",
   "version": "3.8.5"
  }
 },
 "nbformat": 4,
 "nbformat_minor": 4
}
